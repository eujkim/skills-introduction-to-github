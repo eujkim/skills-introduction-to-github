{
  "cells": [
    {
      "cell_type": "markdown",
      "metadata": {
        "id": "view-in-github",
        "colab_type": "text"
      },
      "source": [
        "<a href=\"https://colab.research.google.com/github/eujkim/skills-introduction-to-github/blob/main/python/hello_world_json.ipynb\" target=\"_parent\"><img src=\"https://colab.research.google.com/assets/colab-badge.svg\" alt=\"Open In Colab\"/></a>"
      ]
    },
    {
      "cell_type": "markdown",
      "metadata": {
        "id": "title-enhanced"
      },
      "source": [
        "#  Basic Python Commands and Statements\n",
        "\n",
        "This notebook demonstrates fundamental Python features including variables, control flow, loops, functions, data structures (with extra examples on dictionaries), list comprehensions, and importing libraries. Enjoy exploring and feel free to modify the code as you see fit!"
      ]
    },
    {
      "cell_type": "code",
      "execution_count": 1,
      "metadata": {
        "id": "variables-arithmetic-enhanced",
        "outputId": "241de528-780b-469f-ee4f-6915b4a68ff6",
        "colab": {
          "base_uri": "https://localhost:8080/"
        }
      },
      "outputs": [
        {
          "output_type": "stream",
          "name": "stdout",
          "text": [
            "x = 10 and y = 5\n",
            "Sum: 15\n",
            "Product: 50\n"
          ]
        }
      ],
      "source": [
        "# Variable assignment and arithmetic operations\n",
        "x = 10\n",
        "y = 5\n",
        "\n",
        "print('x =', x, 'and y =', y)\n",
        "\n",
        "# Basic arithmetic\n",
        "sum_xy = x + y\n",
        "product_xy = x * y\n",
        "\n",
        "print('Sum:', sum_xy)\n",
        "print('Product:', product_xy)"
      ]
    },
    {
      "cell_type": "markdown",
      "metadata": {
        "id": "control-flow-enhanced"
      },
      "source": [
        "## Control Flow\n",
        "\n",
        "Let's see how an if-else statement works."
      ]
    },
    {
      "cell_type": "code",
      "execution_count": 2,
      "metadata": {
        "id": "if-else-enhanced",
        "outputId": "e9d02943-4344-4831-a55a-b4cd53cfc546",
        "colab": {
          "base_uri": "https://localhost:8080/"
        }
      },
      "outputs": [
        {
          "output_type": "stream",
          "name": "stdout",
          "text": [
            "x is greater than y\n"
          ]
        }
      ],
      "source": [
        "# If-else statement\n",
        "if x > y:\n",
        "    print('x is greater than y')\n",
        "elif x == y:\n",
        "    print('x is equal to y')\n",
        "else:\n",
        "    print('x is less than y')"
      ]
    },
    {
      "cell_type": "markdown",
      "metadata": {
        "id": "loops-enhanced"
      },
      "source": [
        "## Looping Constructs\n",
        "\n",
        "Below are examples of a `for` loop and a `while` loop."
      ]
    },
    {
      "cell_type": "code",
      "execution_count": 3,
      "metadata": {
        "id": "loops-code-enhanced",
        "outputId": "ebb58574-8127-4301-b3de-815a1cfb98eb",
        "colab": {
          "base_uri": "https://localhost:8080/"
        }
      },
      "outputs": [
        {
          "output_type": "stream",
          "name": "stdout",
          "text": [
            "For loop output:\n",
            "Iteration 0\n",
            "Iteration 1\n",
            "Iteration 2\n",
            "Iteration 3\n",
            "Iteration 4\n",
            "\n",
            "While loop output:\n",
            "Counter: 0\n",
            "Counter: 1\n",
            "Counter: 2\n",
            "Counter: 3\n",
            "Counter: 4\n"
          ]
        }
      ],
      "source": [
        "# For loop: iterate over a range of numbers\n",
        "print('For loop output:')\n",
        "for i in range(5):\n",
        "    print('Iteration', i)\n",
        "\n",
        "# While loop: counting from 0 to 4\n",
        "print('\\nWhile loop output:')\n",
        "counter = 0\n",
        "while counter < 5: # while loops do things until the statement is false\n",
        "    print('Counter:', counter)\n",
        "    counter += 1"
      ]
    },
    {
      "cell_type": "markdown",
      "metadata": {
        "id": "functions-enhanced"
      },
      "source": [
        "## Functions\n",
        "\n",
        "Here's a simple function to greet a user."
      ]
    },
    {
      "cell_type": "code",
      "execution_count": 4,
      "metadata": {
        "id": "functions-code-enhanced",
        "outputId": "ea14eeb6-6f54-4302-c969-a6e7ac052943",
        "colab": {
          "base_uri": "https://localhost:8080/"
        }
      },
      "outputs": [
        {
          "output_type": "stream",
          "name": "stdout",
          "text": [
            "Hello, Alice!\n"
          ]
        }
      ],
      "source": [
        "# Define a function\n",
        "def greet(name):\n",
        "    return f'Hello, {name}!'\n",
        "\n",
        "# Call the function\n",
        "print(greet('Alice'))"
      ]
    },
    {
      "cell_type": "markdown",
      "metadata": {
        "id": "data-structures-enhanced"
      },
      "source": [
        "## Data Structures\n",
        "\n",
        "### Lists\n",
        "\n",
        "A simple list of fruits."
      ]
    },
    {
      "cell_type": "code",
      "execution_count": 5,
      "metadata": {
        "id": "list-example",
        "outputId": "c8c9baad-94a4-4b34-8d2e-e3d079f438c0",
        "colab": {
          "base_uri": "https://localhost:8080/"
        }
      },
      "outputs": [
        {
          "output_type": "stream",
          "name": "stdout",
          "text": [
            "Fruits: ['apple', 'banana', 'cherry']\n"
          ]
        }
      ],
      "source": [
        "# List example\n",
        "fruits = ['apple', 'banana', 'cherry']\n",
        "print('Fruits:', fruits)"
      ]
    },
    {
      "cell_type": "markdown",
      "metadata": {
        "id": "dictionaries-intro"
      },
      "source": [
        "### Dictionaries\n",
        "\n",
        "Dictionaries are collections of key-value pairs. Let's explore several examples."
      ]
    },
    {
      "cell_type": "code",
      "execution_count": 6,
      "metadata": {
        "id": "dictionary-basic",
        "outputId": "1337c40c-4fd7-4be4-b79b-65047d8641c7",
        "colab": {
          "base_uri": "https://localhost:8080/"
        }
      },
      "outputs": [
        {
          "output_type": "stream",
          "name": "stdout",
          "text": [
            "Person Dictionary: {'name': 'Bob', 'age': 25, 'city': 'New York'}\n",
            "Bob's age is: 25\n",
            "Bob's profession: Not specified\n"
          ]
        }
      ],
      "source": [
        "# Basic dictionary example\n",
        "person = {'name': 'Bob', 'age': 25, 'city': 'New York'}\n",
        "print('Person Dictionary:', person)\n",
        "\n",
        "# Accessing values using keys\n",
        "print(\"Bob's age is:\", person['age'])\n",
        "\n",
        "# Using .get() to safely access a key\n",
        "print(\"Bob's profession:\", person.get('profession', 'Not specified'))"
      ]
    },
    {
      "cell_type": "markdown",
      "metadata": {
        "id": "dictionary-iteration"
      },
      "source": [
        "#### Iterating Over a Dictionary\n",
        "\n",
        "Loop through keys and values."
      ]
    },
    {
      "cell_type": "code",
      "execution_count": null,
      "metadata": {
        "id": "dictionary-iteration-code"
      },
      "outputs": [],
      "source": [
        "# Iterating over dictionary items\n",
        "for key, value in person.items():\n",
        "    print(f'{key}: {value}')"
      ]
    },
    {
      "cell_type": "markdown",
      "metadata": {
        "id": "dictionary-comprehension"
      },
      "source": [
        "#### Dictionary Example\n",
        "\n",
        "A concise way to create dictionaries."
      ]
    },
    {
      "cell_type": "code",
      "execution_count": 10,
      "metadata": {
        "id": "dictionary-comprehension-code",
        "outputId": "40394b64-94ba-4a73-8108-32a2c976e0f8",
        "colab": {
          "base_uri": "https://localhost:8080/"
        }
      },
      "outputs": [
        {
          "output_type": "stream",
          "name": "stdout",
          "text": [
            "Squares Dictionary: {0: 0, 1: 1, 2: 4, 3: 9, 4: 16, 5: 25}\n"
          ]
        }
      ],
      "source": [
        "# Create a dictionary of numbers and their squares using comprehension\n",
        "squares_dict = {i: i**2 for i in range(6)}\n",
        "print('Squares Dictionary:', squares_dict)"
      ]
    },
    {
      "cell_type": "markdown",
      "metadata": {
        "id": "dictionary-merge"
      },
      "source": [
        "#### Merging Dictionaries\n",
        "\n",
        "Merge two dictionaries using the unpacking operator."
      ]
    },
    {
      "cell_type": "code",
      "execution_count": 11,
      "metadata": {
        "id": "dictionary-merge-code",
        "outputId": "f25620a2-a18c-4ab1-c4fa-8570cf83f581",
        "colab": {
          "base_uri": "https://localhost:8080/"
        }
      },
      "outputs": [
        {
          "output_type": "stream",
          "name": "stdout",
          "text": [
            "Merged Dictionary: {'a': 1, 'b': 3, 'c': 4}\n"
          ]
        }
      ],
      "source": [
        "# Define two dictionaries\n",
        "dict1 = {'a': 1, 'b': 2}\n",
        "dict2 = {'b': 3, 'c': 4}\n",
        "\n",
        "# Merge them: values in dict2 will override those in dict1 for common keys\n",
        "merged_dict = {**dict1, **dict2}\n",
        "print('Merged Dictionary:', merged_dict)"
      ]
    },
    {
      "cell_type": "markdown",
      "metadata": {
        "id": "list-comprehensions-enhanced"
      },
      "source": [
        "## List\n",
        "\n",
        "A concise way to create lists."
      ]
    },
    {
      "cell_type": "code",
      "execution_count": 8,
      "metadata": {
        "id": "list-comprehension-code-enhanced",
        "outputId": "def54851-5022-4c09-c96e-8f1979f5e1f8",
        "colab": {
          "base_uri": "https://localhost:8080/"
        }
      },
      "outputs": [
        {
          "output_type": "stream",
          "name": "stdout",
          "text": [
            "Squares: [0, 1, 4, 9, 16, 25, 36, 49, 64, 81]\n"
          ]
        }
      ],
      "source": [
        "# List comprehension to compute squares of numbers 0 to 9\n",
        "squares = [i**2 for i in range(10)]\n",
        "print('Squares:', squares)"
      ]
    },
    {
      "cell_type": "markdown",
      "metadata": {
        "id": "importing-libraries-enhanced"
      },
      "source": [
        "## Importing Libraries\n",
        "\n",
        "Let's import the built-in `math` library and use it."
      ]
    },
    {
      "cell_type": "code",
      "execution_count": 9,
      "metadata": {
        "colab": {
          "base_uri": "https://localhost:8080/"
        },
        "id": "importing-code-enhanced",
        "outputId": "fb7e6a6a-688e-4bc5-af0e-e9f7695d34a2"
      },
      "outputs": [
        {
          "output_type": "stream",
          "name": "stdout",
          "text": [
            "\n",
            "Usage:   \n",
            "  pip3 <command> [options]\n",
            "\n",
            "Commands:\n",
            "  install                     Install packages.\n",
            "  download                    Download packages.\n",
            "  uninstall                   Uninstall packages.\n",
            "  freeze                      Output installed packages in requirements format.\n",
            "  inspect                     Inspect the python environment.\n",
            "  list                        List installed packages.\n",
            "  show                        Show information about installed packages.\n",
            "  check                       Verify installed packages have compatible dependencies.\n",
            "  config                      Manage local and global configuration.\n",
            "  search                      Search PyPI for packages.\n",
            "  cache                       Inspect and manage pip's wheel cache.\n",
            "  index                       Inspect information available from package indexes.\n",
            "  wheel                       Build wheels from your requirements.\n",
            "  hash                        Compute hashes of package archives.\n",
            "  completion                  A helper command used for command completion.\n",
            "  debug                       Show information useful for debugging.\n",
            "  help                        Show help for commands.\n",
            "\n",
            "General Options:\n",
            "  -h, --help                  Show help.\n",
            "  --debug                     Let unhandled exceptions propagate outside the main subroutine,\n",
            "                              instead of logging them to stderr.\n",
            "  --isolated                  Run pip in an isolated mode, ignoring environment variables and user\n",
            "                              configuration.\n",
            "  --require-virtualenv        Allow pip to only run in a virtual environment; exit with an error\n",
            "                              otherwise.\n",
            "  --python <python>           Run pip with the specified Python interpreter.\n",
            "  -v, --verbose               Give more output. Option is additive, and can be used up to 3 times.\n",
            "  -V, --version               Show version and exit.\n",
            "  -q, --quiet                 Give less output. Option is additive, and can be used up to 3 times\n",
            "                              (corresponding to WARNING, ERROR, and CRITICAL logging levels).\n",
            "  --log <path>                Path to a verbose appending log.\n",
            "  --no-input                  Disable prompting for input.\n",
            "  --keyring-provider <keyring_provider>\n",
            "                              Enable the credential lookup via the keyring library if user input\n",
            "                              is allowed. Specify which mechanism to use [disabled, import,\n",
            "                              subprocess]. (default: disabled)\n",
            "  --proxy <proxy>             Specify a proxy in the form\n",
            "                              scheme://[user:passwd@]proxy.server:port.\n",
            "  --retries <retries>         Maximum number of retries each connection should attempt (default 5\n",
            "                              times).\n",
            "  --timeout <sec>             Set the socket timeout (default 15 seconds).\n",
            "  --exists-action <action>    Default action when a path already exists: (s)witch, (i)gnore,\n",
            "                              (w)ipe, (b)ackup, (a)bort.\n",
            "  --trusted-host <hostname>   Mark this host or host:port pair as trusted, even though it does not\n",
            "                              have valid or any HTTPS.\n",
            "  --cert <path>               Path to PEM-encoded CA certificate bundle. If provided, overrides\n",
            "                              the default. See 'SSL Certificate Verification' in pip documentation\n",
            "                              for more information.\n",
            "  --client-cert <path>        Path to SSL client certificate, a single file containing the private\n",
            "                              key and the certificate in PEM format.\n",
            "  --cache-dir <dir>           Store the cache data in <dir>.\n",
            "  --no-cache-dir              Disable the cache.\n",
            "  --disable-pip-version-check\n",
            "                              Don't periodically check PyPI to determine whether a new version of\n",
            "                              pip is available for download. Implied with --no-index.\n",
            "  --no-color                  Suppress colored output.\n",
            "  --no-python-version-warning\n",
            "                              Silence deprecation warnings for upcoming unsupported Pythons.\n",
            "  --use-feature <feature>     Enable new functionality, that may be backward incompatible.\n",
            "  --use-deprecated <feature>  Enable deprecated functionality, that will be removed in the future.\n",
            "The square root of 16 is: 4.0\n"
          ]
        }
      ],
      "source": [
        "import math\n",
        "!pip # ! tells jupiter tells it to run\n",
        "print('The square root of 16 is:', math.sqrt(16))"
      ]
    }
  ],
  "metadata": {
    "colab": {
      "provenance": [],
      "include_colab_link": true
    },
    "kernelspec": {
      "display_name": "Python 3",
      "language": "python",
      "name": "python3"
    },
    "language_info": {
      "name": "python",
      "version": "3.x"
    }
  },
  "nbformat": 4,
  "nbformat_minor": 0
}